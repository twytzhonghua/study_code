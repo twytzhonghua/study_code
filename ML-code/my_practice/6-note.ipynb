{
 "cells": [
  {
   "cell_type": "code",
   "execution_count": 21,
   "metadata": {},
   "outputs": [
    {
     "name": "stdout",
     "output_type": "stream",
     "text": [
      "account name street city state postal-code Jan Feb Mar\n",
      "   account                         name                                street             city          state  postal-code     Jan     Feb    Mar   total\n",
      "0   211829   Kerluke, Koepp and Hilpert                    34456 Sean Highway       New Jaycob          Texas        28752   10000   62000  35000  107000\n",
      "1   320563               Walter-Trantow                     1311 Alvis Tunnel    Port Khadijah  NorthCarolina        38365   95000   45000  35000  175000\n",
      "2   648336   Bashirian, Kunde and Price  62184 Schamberger Underpass Apt. 231   New Lilianland           Iowa        76517   91000  120000  35000  246000\n",
      "3   109996  D'Amore, Gleichner and Bode           155 Fadel Crescent Apt. 144       Hyattburgh          Maine        46021   45000  120000  10000  175000\n",
      "4   121213                Bauch-Goldner                   7274 Marissa Common  Shanahanchester     California        49681  162000  120000  35000  317000\n",
      "1462000\n",
      "10000\n",
      "162000\n",
      "97466.6666667\n"
     ]
    }
   ],
   "source": [
    "import numpy as np\n",
    "import pandas as pd\n",
    "from fuzzywuzzy import fuzz\n",
    "from fuzzywuzzy import process\n",
    "\n",
    "\n",
    "\n",
    "def enum_row(row):\n",
    "    print row['state']\n",
    "\n",
    "\n",
    "def find_state_code(row):\n",
    "    if row['state'] != 0:\n",
    "        print process.extractOne(row['state'], states, score_cutoff=80)\n",
    "\n",
    "\n",
    "def capital(str):\n",
    "    return str.capitalize()\n",
    "\n",
    "\n",
    "def correct_state(row):\n",
    "    if row['state'] != 0:\n",
    "        state = process.extractOne(row['state'], states, score_cutoff=80)\n",
    "        if state:\n",
    "            state_name = state[0]\n",
    "            return ' '.join(map(capital, state_name.split(' ')))\n",
    "    return row['state']\n",
    "\n",
    "\n",
    "def fill_state_code(row):\n",
    "    if row['state'] != 0:\n",
    "        state = process.extractOne(row['state'], states, score_cutoff=80)\n",
    "        if state:\n",
    "            state_name = state[0]\n",
    "            return state_to_code[state_name]\n",
    "    return ''\n",
    "\n",
    "\n",
    "if __name__ == \"__main__\":\n",
    "    pd.set_option('display.width', 200)\n",
    "    data = pd.read_excel('sales.xlsx', sheetname='sheet1', header=0)\n",
    "    #print 'data.head() = \\n', data.head(10)\n",
    "    for c in data.columns:\n",
    "        print c,\n",
    "    print\n",
    "    data['total'] = data['Jan'] + data['Feb'] + data['Mar']\n",
    "    print data.head()\n",
    "    print data['Jan'].sum()\n",
    "    print data['Jan'].min()\n",
    "    print data['Jan'].max()\n",
    "    print data['Jan'].mean()"
   ]
  },
  {
   "cell_type": "code",
   "execution_count": 22,
   "metadata": {},
   "outputs": [
    {
     "name": "stdout",
     "output_type": "stream",
     "text": [
      "   account                         name                                street             city          state  postal-code     Jan     Feb    Mar   total\n",
      "0   211829   Kerluke, Koepp and Hilpert                    34456 Sean Highway       New Jaycob          Texas        28752   10000   62000  35000  107000\n",
      "1   320563               Walter-Trantow                     1311 Alvis Tunnel    Port Khadijah  NorthCarolina        38365   95000   45000  35000  175000\n",
      "2   648336   Bashirian, Kunde and Price  62184 Schamberger Underpass Apt. 231   New Lilianland           Iowa        76517   91000  120000  35000  246000\n",
      "3   109996  D'Amore, Gleichner and Bode           155 Fadel Crescent Apt. 144       Hyattburgh          Maine        46021   45000  120000  10000  175000\n",
      "4   121213                Bauch-Goldner                   7274 Marissa Common  Shanahanchester     California        49681  162000  120000  35000  317000\n",
      "1462000\n",
      "10000\n",
      "162000\n",
      "97466.6666667\n"
     ]
    }
   ],
   "source": [
    "    data['total'] = data['Jan'] + data['Feb'] + data['Mar']\n",
    "    print data.head()\n",
    "    print data['Jan'].sum()\n",
    "    print data['Jan'].min()\n",
    "    print data['Jan'].max()\n",
    "    print data['Jan'].mean()"
   ]
  },
  {
   "cell_type": "code",
   "execution_count": 23,
   "metadata": {},
   "outputs": [
    {
     "name": "stdout",
     "output_type": "stream",
     "text": [
      "0     107000\n",
      "1     175000\n",
      "2     246000\n",
      "3     175000\n",
      "4     317000\n",
      "5     305000\n",
      "6     252000\n",
      "7     275000\n",
      "8     200000\n",
      "9     225000\n",
      "10    220000\n",
      "11    322000\n",
      "12    317000\n",
      "13    210000\n",
      "14    340000\n",
      "Name: total, dtype: int64\n"
     ]
    }
   ],
   "source": [
    "print data['total']"
   ]
  },
  {
   "cell_type": "code",
   "execution_count": 24,
   "metadata": {},
   "outputs": [
    {
     "name": "stdout",
     "output_type": "stream",
     "text": [
      "=============\n",
      "Jan      1462000\n",
      "Feb      1507000\n",
      "Mar       717000\n",
      "total    3686000\n",
      "dtype: int64\n"
     ]
    }
   ],
   "source": [
    "    print '============='\n",
    "    # 添加一行\n",
    "    s1 = data[['Jan', 'Feb', 'Mar', 'total']].sum()\n",
    "    print s1"
   ]
  },
  {
   "cell_type": "code",
   "execution_count": 25,
   "metadata": {},
   "outputs": [
    {
     "name": "stdout",
     "output_type": "stream",
     "text": [
      "             0\n",
      "Jan    1462000\n",
      "Feb    1507000\n",
      "Mar     717000\n",
      "total  3686000\n"
     ]
    }
   ],
   "source": [
    "    s2 = pd.DataFrame(data=s1)\n",
    "    print s2"
   ]
  },
  {
   "cell_type": "code",
   "execution_count": 26,
   "metadata": {},
   "outputs": [
    {
     "name": "stdout",
     "output_type": "stream",
     "text": [
      "       Jan      Feb     Mar    total\n",
      "0  1462000  1507000  717000  3686000\n"
     ]
    }
   ],
   "source": [
    " print s2.T"
   ]
  },
  {
   "cell_type": "code",
   "execution_count": 27,
   "metadata": {},
   "outputs": [
    {
     "name": "stdout",
     "output_type": "stream",
     "text": [
      "   account  name  street  city  state  postal-code      Jan      Feb     Mar    total\n",
      "0      NaN   NaN     NaN   NaN    NaN          NaN  1462000  1507000  717000  3686000\n"
     ]
    }
   ],
   "source": [
    " print s2.T.reindex(columns=data.columns)"
   ]
  },
  {
   "cell_type": "code",
   "execution_count": 28,
   "metadata": {},
   "outputs": [
    {
     "name": "stdout",
     "output_type": "stream",
     "text": [
      "   account  name  street  city  state  postal-code      Jan      Feb     Mar    total\n",
      "0        0     0       0     0      0            0  1462000  1507000  717000  3686000\n"
     ]
    }
   ],
   "source": [
    "    # 即：\n",
    "    s = pd.DataFrame(data=data[['Jan', 'Feb', 'Mar', 'total']].sum()).T\n",
    "    s = s.reindex(columns=data.columns, fill_value=0)\n",
    "    print s"
   ]
  },
  {
   "cell_type": "code",
   "execution_count": 29,
   "metadata": {},
   "outputs": [
    {
     "name": "stdout",
     "output_type": "stream",
     "text": [
      "       account                          name                    street             city        state  postal-code      Jan      Feb     Mar    total\n",
      "11      231907                    Hahn-Moore  18115 Olivine Throughway    Norbertomouth  NorthDakota        31415   150000    10000  162000   322000\n",
      "12      242368  Frami, Anderson and Donnelly           182 Bertie Road      East Davian         Iowa        72686   162000   120000   35000   317000\n",
      "13      268755                   Walsh-Haley      2624 Beatty Parkways     Goodwinmouth  RhodeIsland        31919    55000   120000   35000   210000\n",
      "14      273274                 McDermott PLC     8917 Bergstrom Meadow  Kathryneborough     Delaware        27933   150000   120000   70000   340000\n",
      "Total        0                             0                         0                0            0            0  1462000  1507000  717000  3686000\n"
     ]
    }
   ],
   "source": [
    "    data = data.append(s, ignore_index=True)\n",
    "    data = data.rename(index={15:'Total'})\n",
    "    print data.tail()"
   ]
  },
  {
   "cell_type": "code",
   "execution_count": 30,
   "metadata": {},
   "outputs": [
    {
     "name": "stdout",
     "output_type": "stream",
     "text": [
      "Texas\n",
      "NorthCarolina\n",
      "Iowa\n",
      "Maine\n",
      "California\n",
      "Arkansas\n",
      "Mississipi\n",
      "RhodeIsland\n",
      "Pennsylvania\n",
      "Idaho\n",
      "Tenessee\n",
      "NorthDakota\n",
      "Iowa\n",
      "RhodeIsland\n",
      "Delaware\n",
      "0\n"
     ]
    },
    {
     "data": {
      "text/plain": [
       "0        None\n",
       "1        None\n",
       "2        None\n",
       "3        None\n",
       "4        None\n",
       "5        None\n",
       "6        None\n",
       "7        None\n",
       "8        None\n",
       "9        None\n",
       "10       None\n",
       "11       None\n",
       "12       None\n",
       "13       None\n",
       "14       None\n",
       "Total    None\n",
       "dtype: object"
      ]
     },
     "execution_count": 30,
     "metadata": {},
     "output_type": "execute_result"
    }
   ],
   "source": [
    "    #apply 函数用法\n",
    "    data.apply(enum_row, axis = 1)"
   ]
  },
  {
   "cell_type": "code",
   "execution_count": 33,
   "metadata": {},
   "outputs": [
    {
     "name": "stdout",
     "output_type": "stream",
     "text": [
      "['VERMONT', 'GEORGIA', 'IOWA', 'DISTRICT OF COLUMBIA', 'GUAM', 'KANSAS', 'FLORIDA', 'AMERICAN SAMOA', 'NORTH CAROLINA', 'ALASKA', 'NEW YORK', 'CALIFORNIA', 'ALABAMA', 'IDAHO', 'FEDERATED STATES OF MICRONESIA', 'Armed Forces Americas', 'DELAWARE', 'HAWAII', 'ILLINOIS', 'Armed Forces Africa', 'Armed Forces Europe', 'CONNECTICUT', 'TENNESSEE', 'MISSOURI', 'MASSACHUSETTS', 'PUERTO RICO', 'Armed Forces Canada', 'OHIO', 'MARYLAND', 'WASHINGTON', 'ARKANSAS', 'NEW MEXICO', 'SOUTH DAKOTA', 'PALAU', 'COLORADO', 'Armed Forces Middle East', 'NEW JERSEY', 'UTAH', 'MICHIGAN', 'WYOMING', 'MISSISSIPPI', 'MINNESOTA', 'OREGON', 'VIRGINIA', 'VIRGIN ISLANDS', 'MARSHALL ISLANDS', 'Armed Forces Pacific', 'SOUTH CAROLINA', 'INDIANA', 'NEVADA', 'LOUISIANA', 'NORTH DAKOTA', 'NEBRASKA', 'ARIZONA', 'WISCONSIN', 'NORTHERN MARIANA ISLANDS', 'PENNSYLVANIA', 'OKLAHOMA', 'KENTUCKY', 'RHODE ISLAND', 'MONTANA', 'NEW HAMPSHIRE', 'WEST VIRGINIA', 'TEXAS', 'MAINE']\n"
     ]
    }
   ],
   "source": [
    "    state_to_code = {\"VERMONT\": \"VT\", \"GEORGIA\": \"GA\", \"IOWA\": \"IA\", \"Armed Forces Pacific\": \"AP\", \"GUAM\": \"GU\",\n",
    "                     \"KANSAS\": \"KS\", \"FLORIDA\": \"FL\", \"AMERICAN SAMOA\": \"AS\", \"NORTH CAROLINA\": \"NC\", \"HAWAII\": \"HI\",\n",
    "                     \"NEW YORK\": \"NY\", \"CALIFORNIA\": \"CA\", \"ALABAMA\": \"AL\", \"IDAHO\": \"ID\",\n",
    "                     \"FEDERATED STATES OF MICRONESIA\": \"FM\",\n",
    "                     \"Armed Forces Americas\": \"AA\", \"DELAWARE\": \"DE\", \"ALASKA\": \"AK\", \"ILLINOIS\": \"IL\",\n",
    "                     \"Armed Forces Africa\": \"AE\", \"SOUTH DAKOTA\": \"SD\", \"CONNECTICUT\": \"CT\", \"MONTANA\": \"MT\",\n",
    "                     \"MASSACHUSETTS\": \"MA\",\n",
    "                     \"PUERTO RICO\": \"PR\", \"Armed Forces Canada\": \"AE\", \"NEW HAMPSHIRE\": \"NH\", \"MARYLAND\": \"MD\",\n",
    "                     \"NEW MEXICO\": \"NM\",\n",
    "                     \"MISSISSIPPI\": \"MS\", \"TENNESSEE\": \"TN\", \"PALAU\": \"PW\", \"COLORADO\": \"CO\",\n",
    "                     \"Armed Forces Middle East\": \"AE\",\n",
    "                     \"NEW JERSEY\": \"NJ\", \"UTAH\": \"UT\", \"MICHIGAN\": \"MI\", \"WEST VIRGINIA\": \"WV\", \"WASHINGTON\": \"WA\",\n",
    "                     \"MINNESOTA\": \"MN\", \"OREGON\": \"OR\", \"VIRGINIA\": \"VA\", \"VIRGIN ISLANDS\": \"VI\",\n",
    "                     \"MARSHALL ISLANDS\": \"MH\",\n",
    "                     \"WYOMING\": \"WY\", \"OHIO\": \"OH\", \"SOUTH CAROLINA\": \"SC\", \"INDIANA\": \"IN\", \"NEVADA\": \"NV\",\n",
    "                     \"LOUISIANA\": \"LA\",\n",
    "                     \"NORTHERN MARIANA ISLANDS\": \"MP\", \"NEBRASKA\": \"NE\", \"ARIZONA\": \"AZ\", \"WISCONSIN\": \"WI\",\n",
    "                     \"NORTH DAKOTA\": \"ND\",\n",
    "                     \"Armed Forces Europe\": \"AE\", \"PENNSYLVANIA\": \"PA\", \"OKLAHOMA\": \"OK\", \"KENTUCKY\": \"KY\",\n",
    "                     \"RHODE ISLAND\": \"RI\",\n",
    "                     \"DISTRICT OF COLUMBIA\": \"DC\", \"ARKANSAS\": \"AR\", \"MISSOURI\": \"MO\", \"TEXAS\": \"TX\", \"MAINE\": \"ME\"}\n",
    "    states = state_to_code.keys()\n",
    "    print states"
   ]
  },
  {
   "cell_type": "code",
   "execution_count": 35,
   "metadata": {},
   "outputs": [
    {
     "name": "stdout",
     "output_type": "stream",
     "text": [
      "[('MISSISSIPPI', 100), ('MISSOURI', 53), ('MASSACHUSETTS', 42), ('WISCONSIN', 40), ('VIRGIN ISLANDS', 38)]\n"
     ]
    }
   ],
   "source": [
    " print process.extract('Mississippi', states)"
   ]
  },
  {
   "cell_type": "code",
   "execution_count": 36,
   "metadata": {},
   "outputs": [
    {
     "name": "stdout",
     "output_type": "stream",
     "text": [
      "[('MISSISSIPPI', 95)]\n"
     ]
    }
   ],
   "source": [
    "print process.extract('Mississipi', states, limit=1)"
   ]
  },
  {
   "cell_type": "code",
   "execution_count": 37,
   "metadata": {},
   "outputs": [
    {
     "name": "stdout",
     "output_type": "stream",
     "text": [
      "('MISSISSIPPI', 95)\n"
     ]
    }
   ],
   "source": [
    "print process.extractOne('Mississipi', states)"
   ]
  },
  {
   "cell_type": "code",
   "execution_count": null,
   "metadata": {
    "collapsed": true
   },
   "outputs": [],
   "source": []
  }
 ],
 "metadata": {
  "kernelspec": {
   "display_name": "Python 2",
   "language": "python",
   "name": "python2"
  },
  "language_info": {
   "codemirror_mode": {
    "name": "ipython",
    "version": 2
   },
   "file_extension": ".py",
   "mimetype": "text/x-python",
   "name": "python",
   "nbconvert_exporter": "python",
   "pygments_lexer": "ipython2",
   "version": "2.7.13"
  }
 },
 "nbformat": 4,
 "nbformat_minor": 2
}
