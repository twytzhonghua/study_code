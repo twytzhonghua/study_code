{
 "cells": [
  {
   "cell_type": "code",
   "execution_count": 4,
   "metadata": {},
   "outputs": [
    {
     "data": {
      "text/plain": [
       "'{ \"a\": \"Mozilla\\\\/5.0 (Windows NT 6.1; WOW64) AppleWebKit\\\\/535.11 (KHTML, like Gecko) Chrome\\\\/17.0.963.78 Safari\\\\/535.11\", \"c\": \"US\", \"nk\": 1, \"tz\": \"America\\\\/New_York\", \"gr\": \"MA\", \"g\": \"A6qOVH\", \"h\": \"wfLQtf\", \"l\": \"orofrog\", \"al\": \"en-US,en;q=0.8\", \"hh\": \"1.usa.gov\", \"r\": \"http:\\\\/\\\\/www.facebook.com\\\\/l\\\\/7AQEFzjSi\\\\/1.usa.gov\\\\/wfLQtf\", \"u\": \"http:\\\\/\\\\/www.ncbi.nlm.nih.gov\\\\/pubmed\\\\/22415991\", \"t\": 1331923247, \"hc\": 1331822918, \"cy\": \"Danvers\", \"ll\": [ 42.576698, -70.954903 ] }\\n'"
      ]
     },
     "execution_count": 4,
     "metadata": {},
     "output_type": "execute_result"
    }
   ],
   "source": [
    "import json\n",
    "# 数据集对应路径\n",
    "path ='usagov_bitly_data.txt'\n",
    "# 显示数据集的第一行\n",
    "open(path).readline()\n",
    "# 此处应该可以看到一长串字符串，为JSON格式\n"
   ]
  },
  {
   "cell_type": "code",
   "execution_count": 9,
   "metadata": {},
   "outputs": [
    {
     "data": {
      "text/plain": [
       "{u'a': u'Mozilla/5.0 (Windows NT 6.1; WOW64) AppleWebKit/535.11 (KHTML, like Gecko) Chrome/17.0.963.78 Safari/535.11',\n",
       " u'al': u'en-US,en;q=0.8',\n",
       " u'c': u'US',\n",
       " u'cy': u'Danvers',\n",
       " u'g': u'A6qOVH',\n",
       " u'gr': u'MA',\n",
       " u'h': u'wfLQtf',\n",
       " u'hc': 1331822918,\n",
       " u'hh': u'1.usa.gov',\n",
       " u'l': u'orofrog',\n",
       " u'll': [42.576698, -70.954903],\n",
       " u'nk': 1,\n",
       " u'r': u'http://www.facebook.com/l/7AQEFzjSi/1.usa.gov/wfLQtf',\n",
       " u't': 1331923247,\n",
       " u'tz': u'America/New_York',\n",
       " u'u': u'http://www.ncbi.nlm.nih.gov/pubmed/22415991'}"
      ]
     },
     "execution_count": 9,
     "metadata": {},
     "output_type": "execute_result"
    }
   ],
   "source": [
    "records = [json.loads(line) for line in open(path)]\n",
    "records[0]"
   ]
  },
  {
   "cell_type": "code",
   "execution_count": 10,
   "metadata": {},
   "outputs": [
    {
     "data": {
      "text/plain": [
       "u'America/New_York'"
      ]
     },
     "execution_count": 10,
     "metadata": {},
     "output_type": "execute_result"
    }
   ],
   "source": [
    "records[0]['tz']"
   ]
  },
  {
   "cell_type": "code",
   "execution_count": 14,
   "metadata": {},
   "outputs": [
    {
     "name": "stdout",
     "output_type": "stream",
     "text": [
      "[u'America/New_York', u'America/Denver', u'America/New_York', u'America/Sao_Paulo', u'America/New_York', u'America/New_York', u'Europe/Warsaw', u'', u'', u'']\n"
     ]
    }
   ],
   "source": [
    "time_zones = [rec['tz'] for rec in records if 'tz' in rec]\n",
    "print time_zones[:10]"
   ]
  },
  {
   "cell_type": "code",
   "execution_count": 17,
   "metadata": {},
   "outputs": [
    {
     "name": "stdout",
     "output_type": "stream",
     "text": [
      "defaultdict(<type 'int'>, {u'': 521, u'Europe/Lisbon': 8, u'Asia/Calcutta': 9, u'Europe/Skopje': 1, u'Europe/Copenhagen': 5, u'Europe/Amsterdam': 22, u'America/Phoenix': 20, u'Europe/Moscow': 10, u'Europe/Madrid': 35, u'Asia/Dubai': 4, u'Asia/Hong_Kong': 10, u'America/Rainy_River': 25, u'Europe/Paris': 14, u'Europe/Stockholm': 14, u'Europe/Athens': 6, u'America/Indianapolis': 20, u'America/Mexico_City': 15, u'America/Puerto_Rico': 10, u'Asia/Manila': 1, u'Europe/Berlin': 28, u'Europe/Zurich': 4, u'Africa/Casablanca': 1, u'Asia/Karachi': 3, u'Europe/Rome': 27, u'Asia/Harbin': 3, u'Asia/Kuching': 1, u'America/Monterrey': 1, u'Asia/Yekaterinburg': 1, u'America/Lima': 1, u'Pacific/Honolulu': 36, u'Europe/Helsinki': 10, u'Pacific/Auckland': 11, u'America/Mazatlan': 1, u'America/Tegucigalpa': 1, u'Europe/Belgrade': 2, u'Europe/Prague': 10, u'America/Argentina/Cordoba': 1, u'America/Halifax': 4, u'America/St_Kitts': 1, u'Europe/Budapest': 5, u'America/Los_Angeles': 382, u'Asia/Amman': 2, u'America/Chihuahua': 2, u'America/Vancouver': 12, u'Asia/Nicosia': 1, u'Europe/Volgograd': 1, u'Europe/Uzhgorod': 1, u'America/Sao_Paulo': 33, u'America/Edmonton': 6, u'Asia/Tokyo': 37, u'Asia/Jakarta': 3, u'Africa/Johannesburg': 1, u'Europe/Riga': 2, u'Chile/Continental': 6, u'America/Argentina/Buenos_Aires': 1, u'Asia/Istanbul': 9, u'Europe/Bucharest': 4, u'Europe/Malta': 2, u'Asia/Bangkok': 6, u'America/Bogota': 3, u'America/Costa_Rica': 1, u'America/Winnipeg': 4, u'America/Recife': 2, u'America/Chicago': 400, u'Europe/Vilnius': 2, u'America/La_Paz': 1, u'Africa/Cairo': 3, u'Africa/Lusaka': 1, u'Europe/Brussels': 4, u'Asia/Jerusalem': 3, u'Europe/Oslo': 10, u'Australia/NSW': 6, u'America/Caracas': 1, u'Africa/Ceuta': 2, u'Asia/Beirut': 4, u'America/Guayaquil': 2, u'Asia/Kuala_Lumpur': 3, u'America/Denver': 191, u'Asia/Riyadh': 1, u'Europe/Ljubljana': 1, u'Europe/London': 74, u'Europe/Warsaw': 16, u'America/Montevideo': 1, u'America/Managua': 3, u'Asia/Pontianak': 1, u'Australia/Queensland': 1, u'America/Santo_Domingo': 1, u'Asia/Novosibirsk': 1, u'Europe/Bratislava': 3, u'Europe/Vienna': 6, u'America/New_York': 1251, u'Europe/Dublin': 3, u'Europe/Sofia': 1, u'America/Argentina/Mendoza': 1, u'America/Montreal': 9, u'America/Anchorage': 5, u'Asia/Seoul': 5})\n"
     ]
    }
   ],
   "source": [
    "from collections import defaultdict\n",
    "\n",
    "def get_counts(sequence):\n",
    "    counts = defaultdict(int)  # 所有的值均会被初始化为0\n",
    "    for x in sequence:\n",
    "        counts[x] += 1\n",
    "    return counts\n",
    "\n",
    "counts = get_counts(time_zones)\n",
    "counts['America/New_York']  # 检查New York这个时区的计数情况  此时得出的counts是一个字典\n",
    "#print counts"
   ]
  },
  {
   "cell_type": "code",
   "execution_count": 16,
   "metadata": {},
   "outputs": [
    {
     "data": {
      "text/plain": [
       "3440"
      ]
     },
     "execution_count": 16,
     "metadata": {},
     "output_type": "execute_result"
    }
   ],
   "source": [
    "len(time_zones)"
   ]
  },
  {
   "cell_type": "code",
   "execution_count": 21,
   "metadata": {},
   "outputs": [
    {
     "data": {
      "text/plain": [
       "[(33, u'America/Sao_Paulo'),\n",
       " (35, u'Europe/Madrid'),\n",
       " (36, u'Pacific/Honolulu'),\n",
       " (37, u'Asia/Tokyo'),\n",
       " (74, u'Europe/London'),\n",
       " (191, u'America/Denver'),\n",
       " (382, u'America/Los_Angeles'),\n",
       " (400, u'America/Chicago'),\n",
       " (521, u''),\n",
       " (1251, u'America/New_York')]"
      ]
     },
     "execution_count": 21,
     "metadata": {},
     "output_type": "execute_result"
    }
   ],
   "source": [
    "#字典处理技巧\n",
    "\n",
    "def top_counts(count_dict, n=10):\n",
    "    value_key_pairs = [(count, tz) for tz, count in count_dict.items()]\n",
    "    value_key_pairs.sort()\n",
    "    return value_key_pairs[-n:]\n",
    "\n",
    "top_counts(counts)\n"
   ]
  },
  {
   "cell_type": "code",
   "execution_count": 22,
   "metadata": {},
   "outputs": [
    {
     "data": {
      "text/plain": [
       "[(u'America/New_York', 1251),\n",
       " (u'', 521),\n",
       " (u'America/Chicago', 400),\n",
       " (u'America/Los_Angeles', 382),\n",
       " (u'America/Denver', 191),\n",
       " (u'Europe/London', 74),\n",
       " (u'Asia/Tokyo', 37),\n",
       " (u'Pacific/Honolulu', 36),\n",
       " (u'Europe/Madrid', 35),\n",
       " (u'America/Sao_Paulo', 33)]"
      ]
     },
     "execution_count": 22,
     "metadata": {},
     "output_type": "execute_result"
    }
   ],
   "source": [
    "#当然，你也可以使用Python标准库collections.Counter来完成上述任务：\n",
    "from collections import Counter\n",
    "counts = Counter(time_zones)  # 计数\n",
    "counts.most_common(10)  # 计数前十"
   ]
  },
  {
   "cell_type": "markdown",
   "metadata": {},
   "source": [
    "# 使用pandas对时区进行计数\n",
    "\n",
    "实现对时区的计数，只需要如下代码："
   ]
  },
  {
   "cell_type": "code",
   "execution_count": 23,
   "metadata": {},
   "outputs": [
    {
     "name": "stdout",
     "output_type": "stream",
     "text": [
      "       _heartbeat_                                                  a  \\\n",
      "0              NaN  Mozilla/5.0 (Windows NT 6.1; WOW64) AppleWebKi...   \n",
      "1              NaN                             GoogleMaps/RochesterNY   \n",
      "2              NaN  Mozilla/4.0 (compatible; MSIE 8.0; Windows NT ...   \n",
      "3              NaN  Mozilla/5.0 (Macintosh; Intel Mac OS X 10_6_8)...   \n",
      "4              NaN  Mozilla/5.0 (Windows NT 6.1; WOW64) AppleWebKi...   \n",
      "5              NaN  Mozilla/5.0 (Windows NT 6.1; WOW64) AppleWebKi...   \n",
      "6              NaN  Mozilla/5.0 (Windows NT 5.1) AppleWebKit/535.1...   \n",
      "7              NaN  Mozilla/5.0 (Windows NT 6.1; rv:2.0.1) Gecko/2...   \n",
      "8              NaN  Opera/9.80 (X11; Linux zbov; U; en) Presto/2.1...   \n",
      "9              NaN  Mozilla/5.0 (Windows NT 6.1; WOW64) AppleWebKi...   \n",
      "10             NaN  Mozilla/5.0 (Windows NT 6.1; WOW64; rv:10.0.2)...   \n",
      "11             NaN  Mozilla/5.0 (Macintosh; U; Intel Mac OS X 10.4...   \n",
      "12             NaN  Mozilla/5.0 (Windows NT 6.1; WOW64; rv:10.0.2)...   \n",
      "13    1.331923e+09                                                NaN   \n",
      "14             NaN  Mozilla/5.0 (Windows; U; Windows NT 6.1; en-US...   \n",
      "15             NaN  Mozilla/5.0 (Windows NT 6.1) AppleWebKit/535.1...   \n",
      "16             NaN  Mozilla/5.0 (Windows NT 6.1) AppleWebKit/535.1...   \n",
      "17             NaN  Mozilla/5.0 (Macintosh; Intel Mac OS X 10.5; r...   \n",
      "18             NaN                             GoogleMaps/RochesterNY   \n",
      "19             NaN  Mozilla/5.0 (Windows NT 6.1; WOW64) AppleWebKi...   \n",
      "20             NaN  Mozilla/5.0 (compatible; MSIE 9.0; Windows NT ...   \n",
      "21             NaN  Mozilla/5.0 (Macintosh; U; Intel Mac OS X 10.6...   \n",
      "22             NaN  Mozilla/4.0 (compatible; MSIE 8.0; Windows NT ...   \n",
      "23             NaN  Mozilla/5.0 (Macintosh; Intel Mac OS X 10_7_3)...   \n",
      "24             NaN  Mozilla/5.0 (Windows; U; Windows NT 5.1; es-ES...   \n",
      "25             NaN  Mozilla/5.0 (Windows NT 6.1) AppleWebKit/535.1...   \n",
      "26             NaN  Mozilla/5.0 (Windows NT 6.1) AppleWebKit/535.1...   \n",
      "27             NaN  Mozilla/5.0 (Macintosh; Intel Mac OS X 10_6_8)...   \n",
      "28             NaN  Mozilla/5.0 (iPad; CPU OS 5_0_1 like Mac OS X)...   \n",
      "29             NaN  Mozilla/5.0 (iPad; U; CPU OS 3_2 like Mac OS X...   \n",
      "...            ...                                                ...   \n",
      "3530           NaN  Mozilla/5.0 (Windows NT 6.0) AppleWebKit/535.1...   \n",
      "3531           NaN  Mozilla/5.0 (Macintosh; U; Intel Mac OS X 10_6...   \n",
      "3532           NaN  Mozilla/5.0 (Windows NT 6.1; WOW64; rv:10.0.2)...   \n",
      "3533           NaN  Mozilla/5.0 (iPad; CPU OS 5_1 like Mac OS X) A...   \n",
      "3534           NaN  Mozilla/5.0 (Macintosh; Intel Mac OS X 10_6_8)...   \n",
      "3535           NaN  Mozilla/5.0 (Windows NT 5.1; rv:10.0.2) Gecko/...   \n",
      "3536           NaN  Mozilla/5.0 (BlackBerry; U; BlackBerry 9800; e...   \n",
      "3537           NaN  Mozilla/5.0 (Windows NT 6.1; WOW64; rv:10.0.2)...   \n",
      "3538           NaN  Mozilla/5.0 (iPhone; CPU iPhone OS 5_1 like Ma...   \n",
      "3539           NaN    Mozilla/5.0 (compatible; Fedora Core 3) FC3 KDE   \n",
      "3540           NaN  Mozilla/5.0 (Windows NT 6.1; WOW64) AppleWebKi...   \n",
      "3541           NaN  Mozilla/5.0 (X11; U; OpenVMS AlphaServer_ES40;...   \n",
      "3542           NaN  Mozilla/5.0 (compatible; MSIE 9.0; Windows NT ...   \n",
      "3543  1.331927e+09                                                NaN   \n",
      "3544           NaN  Mozilla/5.0 (Windows NT 6.1; WOW64; rv:5.0.1) ...   \n",
      "3545           NaN  Mozilla/5.0 (Windows NT 6.1; WOW64; rv:10.0.2)...   \n",
      "3546           NaN  Mozilla/5.0 (iPhone; CPU iPhone OS 5_1 like Ma...   \n",
      "3547           NaN  Mozilla/5.0 (Macintosh; Intel Mac OS X 10_6_8)...   \n",
      "3548           NaN  Mozilla/5.0 (iPhone; CPU iPhone OS 5_1 like Ma...   \n",
      "3549           NaN  Mozilla/5.0 (Windows NT 6.1; WOW64) AppleWebKi...   \n",
      "3550           NaN  Mozilla/4.0 (compatible; MSIE 8.0; Windows NT ...   \n",
      "3551           NaN  Mozilla/5.0 (Windows NT 6.1; WOW64) AppleWebKi...   \n",
      "3552           NaN  Mozilla/5.0 (Windows; U; Windows NT 6.1; en-US...   \n",
      "3553           NaN  Mozilla/4.0 (compatible; MSIE 7.0; Windows NT ...   \n",
      "3554           NaN  Mozilla/4.0 (compatible; MSIE 7.0; Windows NT ...   \n",
      "3555           NaN  Mozilla/4.0 (compatible; MSIE 9.0; Windows NT ...   \n",
      "3556           NaN  Mozilla/5.0 (Windows NT 5.1) AppleWebKit/535.1...   \n",
      "3557           NaN                             GoogleMaps/RochesterNY   \n",
      "3558           NaN                                     GoogleProducer   \n",
      "3559           NaN  Mozilla/4.0 (compatible; MSIE 8.0; Windows NT ...   \n",
      "\n",
      "                                          al     c                cy       g  \\\n",
      "0                             en-US,en;q=0.8    US           Danvers  A6qOVH   \n",
      "1                                        NaN    US             Provo  mwszkS   \n",
      "2                                      en-US    US        Washington  xxr3Qb   \n",
      "3                                      pt-br    BR              Braz  zCaLwp   \n",
      "4                             en-US,en;q=0.8    US        Shrewsbury  9b6kNl   \n",
      "5                             en-US,en;q=0.8    US        Shrewsbury  axNK8c   \n",
      "6        pl-PL,pl;q=0.8,en-US;q=0.6,en;q=0.4    PL             Luban  wcndER   \n",
      "7                    bg,en-us;q=0.7,en;q=0.3  None               NaN  wcndER   \n",
      "8                                  en-US, en  None               NaN  wcndER   \n",
      "9        pt-BR,pt;q=0.8,en-US;q=0.6,en;q=0.4  None               NaN  zCaLwp   \n",
      "10                            en-us,en;q=0.5    US           Seattle  vNJS4H   \n",
      "11                            en-us,en;q=0.5    US        Washington  wG7OIH   \n",
      "12                            en-us,en;q=0.5    US        Alexandria  vNJS4H   \n",
      "13                                       NaN   NaN               NaN     NaN   \n",
      "14                            en-us,en;q=0.5    US          Marietta  2rOUYc   \n",
      "15       zh-TW,zh;q=0.8,en-US;q=0.6,en;q=0.4    HK  Central District  nQvgJp   \n",
      "16       zh-TW,zh;q=0.8,en-US;q=0.6,en;q=0.4    HK  Central District   XdUNr   \n",
      "17                            en-us,en;q=0.5    US         Buckfield  zH1BFf   \n",
      "18                                       NaN    US             Provo  mwszkS   \n",
      "19       it-IT,it;q=0.8,en-US;q=0.6,en;q=0.4    IT            Venice  wcndER   \n",
      "20                                     es-ES    ES             Alcal  zQ95Hi   \n",
      "21                            en-us,en;q=0.5    US     Davidsonville  wcndER   \n",
      "22                                     en-us    US         Hockessin  y3ZImz   \n",
      "23                                     en-us    US            Lititz  wWiOiD   \n",
      "24       es-es,es;q=0.8,en-us;q=0.5,en;q=0.3    ES            Bilbao  wcndER   \n",
      "25    en-GB,en;q=0.8,en-US;q=0.6,en-AU;q=0.4    MY      Kuala Lumpur  wcndER   \n",
      "26       ro-RO,ro;q=0.8,en-US;q=0.6,en;q=0.4    CY           Nicosia  wcndER   \n",
      "27                            en-US,en;q=0.8    BR            SPaulo  zCaLwp   \n",
      "28                                     en-us  None               NaN  vNJS4H   \n",
      "29                                     en-us  None               NaN  FPX0IM   \n",
      "...                                      ...   ...               ...     ...   \n",
      "3530                          en-US,en;q=0.8    US     San Francisco  xVZg4P   \n",
      "3531                                   en-US  None               NaN  wcndER   \n",
      "3532                          en-us,en;q=0.5    US        Washington  Au3aUS   \n",
      "3533                                   en-us    US      Jacksonville  b2UtUJ   \n",
      "3534                                   en-us    US            Frisco  vNJS4H   \n",
      "3535                                   en-us    US           Houston  zIgLx8   \n",
      "3536                          en-US,en;q=0.5  None               NaN  xIcyim   \n",
      "3537     es-es,es;q=0.8,en-us;q=0.5,en;q=0.3    HN       Tegucigalpa  zCaLwp   \n",
      "3538                                   en-us    US       Los Angeles  qMac9k   \n",
      "3539                                     NaN    US          Bellevue  zu2M5o   \n",
      "3540                          en-US,en;q=0.8    US            Payson  wcndER   \n",
      "3541                                     NaN    US          Bellevue  zu2M5o   \n",
      "3542                                   en-us    US         Pittsburg  y3reI1   \n",
      "3543                                     NaN   NaN               NaN     NaN   \n",
      "3544                          en-us,en;q=0.5    US        Wentzville  vNJS4H   \n",
      "3545                          en-us,en;q=0.5    US     Saint Charles  vNJS4H   \n",
      "3546                                   en-us    US       Los Angeles  qMac9k   \n",
      "3547                                   en-us    US     Silver Spring  y0jYkg   \n",
      "3548                                   en-us    US           Mcgehee  y5rMac   \n",
      "3549     sv-SE,sv;q=0.8,en-US;q=0.6,en;q=0.4    SE          Sollefte   eH8wu   \n",
      "3550                                   en-us    US      Conshohocken  A00b72   \n",
      "3551                          en-US,en;q=0.8  None               NaN  wcndER   \n",
      "3552                                     NaN    US           Decatur  rqgJuE   \n",
      "3553                                   en-us    US        Shrewsbury  9b6kNl   \n",
      "3554                                   en-us    US        Shrewsbury  axNK8c   \n",
      "3555                                      en    US           Paramus  e5SvKE   \n",
      "3556                          en-US,en;q=0.8    US     Oklahoma City  jQLtP4   \n",
      "3557                                     NaN    US             Provo  mwszkS   \n",
      "3558                                     NaN    US     Mountain View  zjtI4X   \n",
      "3559                                   en-US    US           Mc Lean  qxKrTK   \n",
      "\n",
      "       gr       h            hc           hh   kw              l  \\\n",
      "0      MA  wfLQtf  1.331823e+09    1.usa.gov  NaN        orofrog   \n",
      "1      UT  mwszkS  1.308262e+09         j.mp  NaN          bitly   \n",
      "2      DC  xxr3Qb  1.331920e+09    1.usa.gov  NaN          bitly   \n",
      "3      27  zUtuOu  1.331923e+09    1.usa.gov  NaN       alelex88   \n",
      "4      MA  9b6kNl  1.273672e+09       bit.ly  NaN          bitly   \n",
      "5      MA  axNK8c  1.273673e+09       bit.ly  NaN          bitly   \n",
      "6      77  zkpJBR  1.331923e+09    1.usa.gov  NaN       bnjacobs   \n",
      "7     NaN  zkpJBR  1.331923e+09    1.usa.gov  NaN       bnjacobs   \n",
      "8     NaN  zkpJBR  1.331923e+09    1.usa.gov  NaN       bnjacobs   \n",
      "9     NaN  zUtuOu  1.331923e+09    1.usa.gov  NaN       alelex88   \n",
      "10     WA  u0uD9q  1.319564e+09    1.usa.gov  NaN   o_4us71ccioa   \n",
      "11     DC  A0nRz4  1.331816e+09    1.usa.gov  NaN    darrellissa   \n",
      "12     VA  u0uD9q  1.319564e+09    1.usa.gov  NaN   o_4us71ccioa   \n",
      "13    NaN     NaN           NaN          NaN  NaN            NaN   \n",
      "14     GA  2rOUYc  1.255770e+09    1.usa.gov  NaN          bitly   \n",
      "15     00  rtrrth  1.317318e+09         j.mp  NaN     walkeryuen   \n",
      "16     00  qWkgbq  1.317318e+09         j.mp  NaN     walkeryuen   \n",
      "17     ME  x3jOIv  1.331840e+09    1.usa.gov  NaN  andyzieminski   \n",
      "18     UT  mwszkS  1.308262e+09    1.usa.gov  NaN          bitly   \n",
      "19     20  zkpJBR  1.331923e+09    1.usa.gov  NaN       bnjacobs   \n",
      "20     51  ytZYWR  1.331671e+09    bitly.com  NaN        jplnews   \n",
      "21     MD  zkpJBR  1.331923e+09    1.usa.gov  NaN       bnjacobs   \n",
      "22     DE  y3ZImz  1.331064e+09    1.usa.gov  NaN          bitly   \n",
      "23     PA  wWiOiD  1.330218e+09    1.usa.gov  NaN          bitly   \n",
      "24     59  zkpJBR  1.331923e+09    1.usa.gov  NaN       bnjacobs   \n",
      "25     14  zkpJBR  1.331923e+09    1.usa.gov  NaN       bnjacobs   \n",
      "26     04  zkpJBR  1.331923e+09    1.usa.gov  NaN       bnjacobs   \n",
      "27     27  zUtuOu  1.331923e+09    1.usa.gov  NaN       alelex88   \n",
      "28    NaN  u0uD9q  1.319564e+09    1.usa.gov  NaN   o_4us71ccioa   \n",
      "29    NaN  FPX0IL  1.331923e+09    1.usa.gov  NaN   twittershare   \n",
      "...   ...     ...           ...          ...  ...            ...   \n",
      "3530   CA  wqUkTo  1.331908e+09  go.nasa.gov  NaN    nasatwitter   \n",
      "3531  NaN  zkpJBR  1.331923e+09    1.usa.gov  NaN       bnjacobs   \n",
      "3532   DC  A9ct6C  1.331926e+09    1.usa.gov  NaN          ncsha   \n",
      "3533   FL  ieCdgH  1.301393e+09  go.nasa.gov  NaN    nasatwitter   \n",
      "3534   TX  u0uD9q  1.319564e+09    1.usa.gov  NaN   o_4us71ccioa   \n",
      "3535   TX  yrPaLt  1.331903e+09      aash.to  NaN         aashto   \n",
      "3536  NaN  yG1TTf  1.331728e+09  go.nasa.gov  NaN    nasatwitter   \n",
      "3537   08  w63FZW  1.331547e+09    1.usa.gov  NaN      bufferapp   \n",
      "3538   CA  qds1Ge  1.310474e+09    1.usa.gov  NaN  healthypeople   \n",
      "3539   WA  zDhdro  1.331586e+09       bit.ly  NaN       glimtwin   \n",
      "3540   UT  zkpJBR  1.331923e+09    1.usa.gov  NaN       bnjacobs   \n",
      "3541   WA  zDhdro  1.331586e+09    1.usa.gov  NaN       glimtwin   \n",
      "3542   CA  y3reI1  1.331926e+09    1.usa.gov  NaN          bitly   \n",
      "3543  NaN     NaN           NaN          NaN  NaN            NaN   \n",
      "3544   MO  u0uD9q  1.319564e+09    1.usa.gov  NaN   o_4us71ccioa   \n",
      "3545   IL  u0uD9q  1.319564e+09    1.usa.gov  NaN   o_4us71ccioa   \n",
      "3546   CA  qds1Ge  1.310474e+09    1.usa.gov  NaN  healthypeople   \n",
      "3547   MD  y0jYkg  1.331852e+09    1.usa.gov  NaN          bitly   \n",
      "3548   AR  xANY6O  1.331916e+09    1.usa.gov  NaN    twitterfeed   \n",
      "3549   24  7dtjei  1.260316e+09    1.usa.gov  NaN   tweetdeckapi   \n",
      "3550   PA  yGSwzn  1.331918e+09    1.usa.gov  NaN        addthis   \n",
      "3551  NaN  zkpJBR  1.331923e+09    1.usa.gov  NaN       bnjacobs   \n",
      "3552   AL  xcz8vt  1.331227e+09    1.usa.gov  NaN      bootsnall   \n",
      "3553   MA  9b6kNl  1.273672e+09       bit.ly  NaN          bitly   \n",
      "3554   MA  axNK8c  1.273673e+09       bit.ly  NaN          bitly   \n",
      "3555   NJ  fqPSr9  1.301298e+09    1.usa.gov  NaN   tweetdeckapi   \n",
      "3556   OK  jQLtP4  1.307530e+09    1.usa.gov  NaN          bitly   \n",
      "3557   UT  mwszkS  1.308262e+09         j.mp  NaN          bitly   \n",
      "3558   CA  zjtI4X  1.327529e+09    1.usa.gov  NaN          bitly   \n",
      "3559   VA  qxKrTK  1.312898e+09    1.usa.gov  NaN          bitly   \n",
      "\n",
      "                            ll   nk  \\\n",
      "0      [42.576698, -70.954903]  1.0   \n",
      "1     [40.218102, -111.613297]  0.0   \n",
      "2        [38.9007, -77.043098]  1.0   \n",
      "3     [-23.549999, -46.616699]  0.0   \n",
      "4      [42.286499, -71.714699]  0.0   \n",
      "5      [42.286499, -71.714699]  0.0   \n",
      "6         [51.116699, 15.2833]  0.0   \n",
      "7                          NaN  0.0   \n",
      "8                          NaN  0.0   \n",
      "9                          NaN  0.0   \n",
      "10      [47.5951, -122.332603]  1.0   \n",
      "11     [38.937599, -77.092796]  0.0   \n",
      "12     [38.790901, -77.094704]  1.0   \n",
      "13                         NaN  NaN   \n",
      "14       [33.953201, -84.5177]  1.0   \n",
      "15       [22.2833, 114.150002]  1.0   \n",
      "16       [22.2833, 114.150002]  1.0   \n",
      "17     [44.299702, -70.369797]  0.0   \n",
      "18    [40.218102, -111.613297]  0.0   \n",
      "19        [45.438599, 12.3267]  0.0   \n",
      "20        [37.516701, -5.9833]  0.0   \n",
      "21     [38.939201, -76.635002]  0.0   \n",
      "22        [39.785, -75.682297]  0.0   \n",
      "23       [40.174999, -76.3078]  0.0   \n",
      "24            [43.25, -2.9667]  0.0   \n",
      "25        [3.1667, 101.699997]  0.0   \n",
      "26      [35.166698, 33.366699]  0.0   \n",
      "27      [-23.5333, -46.616699]  0.0   \n",
      "28                         NaN  0.0   \n",
      "29                         NaN  1.0   \n",
      "...                        ...  ...   \n",
      "3530    [37.7645, -122.429398]  0.0   \n",
      "3531                       NaN  0.0   \n",
      "3532   [38.904202, -77.031998]  1.0   \n",
      "3533   [30.279301, -81.585098]  1.0   \n",
      "3534   [33.149899, -96.855499]  1.0   \n",
      "3535   [29.775499, -95.415199]  1.0   \n",
      "3536                       NaN  0.0   \n",
      "3537        [14.1, -87.216698]  0.0   \n",
      "3538  [34.041599, -118.298798]  0.0   \n",
      "3539  [47.615398, -122.210297]  0.0   \n",
      "3540  [40.014198, -111.738899]  0.0   \n",
      "3541  [47.615398, -122.210297]  0.0   \n",
      "3542    [38.0051, -121.838699]  0.0   \n",
      "3543                       NaN  NaN   \n",
      "3544   [38.790001, -90.854897]  1.0   \n",
      "3545     [41.9352, -88.290901]  1.0   \n",
      "3546  [34.041599, -118.298798]  1.0   \n",
      "3547   [39.052101, -77.014999]  1.0   \n",
      "3548   [33.628399, -91.356903]  1.0   \n",
      "3549    [63.166698, 17.266701]  1.0   \n",
      "3550       [40.0798, -75.2855]  0.0   \n",
      "3551                       NaN  0.0   \n",
      "3552   [34.572701, -86.940598]  0.0   \n",
      "3553   [42.286499, -71.714699]  0.0   \n",
      "3554   [42.286499, -71.714699]  0.0   \n",
      "3555         [40.9445, -74.07]  1.0   \n",
      "3556     [35.4715, -97.518997]  0.0   \n",
      "3557  [40.218102, -111.613297]  0.0   \n",
      "3558  [37.419201, -122.057404]  0.0   \n",
      "3559   [38.935799, -77.162102]  0.0   \n",
      "\n",
      "                                                      r             t  \\\n",
      "0     http://www.facebook.com/l/7AQEFzjSi/1.usa.gov/...  1.331923e+09   \n",
      "1                              http://www.AwareMap.com/  1.331923e+09   \n",
      "2                                  http://t.co/03elZC4Q  1.331923e+09   \n",
      "3                                                direct  1.331923e+09   \n",
      "4                   http://www.shrewsbury-ma.gov/selco/  1.331923e+09   \n",
      "5                   http://www.shrewsbury-ma.gov/selco/  1.331923e+09   \n",
      "6     http://plus.url.google.com/url?sa=z&n=13319232...  1.331923e+09   \n",
      "7                              http://www.facebook.com/  1.331923e+09   \n",
      "8     http://www.facebook.com/l.php?u=http%3A%2F%2F1...  1.331923e+09   \n",
      "9                                  http://t.co/o1Pd0WeV  1.331923e+09   \n",
      "10                                               direct  1.331923e+09   \n",
      "11                                 http://t.co/ND7SoPyo  1.331923e+09   \n",
      "12                                               direct  1.331923e+09   \n",
      "13                                                  NaN           NaN   \n",
      "14                                               direct  1.331923e+09   \n",
      "15    http://forum2.hkgolden.com/view.aspx?type=BW&m...  1.331923e+09   \n",
      "16    http://forum2.hkgolden.com/view.aspx?type=BW&m...  1.331923e+09   \n",
      "17                                 http://t.co/6Cx4ROLs  1.331923e+09   \n",
      "18                             http://www.AwareMap.com/  1.331923e+09   \n",
      "19                             http://www.facebook.com/  1.331923e+09   \n",
      "20                             http://www.facebook.com/  1.331923e+09   \n",
      "21                             http://www.facebook.com/  1.331923e+09   \n",
      "22                                               direct  1.331923e+09   \n",
      "23    http://www.facebook.com/l.php?u=http%3A%2F%2F1...  1.331923e+09   \n",
      "24                             http://www.facebook.com/  1.331923e+09   \n",
      "25                             http://www.facebook.com/  1.331923e+09   \n",
      "26                 http://www.facebook.com/?ref=tn_tnmn  1.331923e+09   \n",
      "27                                               direct  1.331923e+09   \n",
      "28                                               direct  1.331923e+09   \n",
      "29                                 http://t.co/5xlp0B34  1.331923e+09   \n",
      "...                                                 ...           ...   \n",
      "3530  http://www.facebook.com/l.php?u=http%3A%2F%2Fg...  1.331927e+09   \n",
      "3531                                             direct  1.331927e+09   \n",
      "3532                              http://www.ncsha.org/  1.331927e+09   \n",
      "3533                                             direct  1.331927e+09   \n",
      "3534                                             direct  1.331927e+09   \n",
      "3535                                             direct  1.331927e+09   \n",
      "3536                               http://t.co/g1VKE8zS  1.331927e+09   \n",
      "3537                               http://t.co/A8TJyibE  1.331927e+09   \n",
      "3538                                             direct  1.331927e+09   \n",
      "3539                                             direct  1.331927e+09   \n",
      "3540  http://www.facebook.com/l.php?u=http%3A%2F%2F1...  1.331927e+09   \n",
      "3541                                             direct  1.331927e+09   \n",
      "3542  http://www.facebook.com/l.php?u=http%3A%2F%2F1...  1.331927e+09   \n",
      "3543                                                NaN           NaN   \n",
      "3544                                             direct  1.331927e+09   \n",
      "3545                                             direct  1.331927e+09   \n",
      "3546                                             direct  1.331927e+09   \n",
      "3547                                             direct  1.331927e+09   \n",
      "3548  https://twitter.com/fdarecalls/status/18069759...  1.331927e+09   \n",
      "3549                                             direct  1.331927e+09   \n",
      "3550   http://www.linkedin.com/home?trk=hb_tab_home_top  1.331927e+09   \n",
      "3551  http://plus.url.google.com/url?sa=z&n=13319268...  1.331927e+09   \n",
      "3552                                             direct  1.331927e+09   \n",
      "3553                http://www.shrewsbury-ma.gov/selco/  1.331927e+09   \n",
      "3554                http://www.shrewsbury-ma.gov/selco/  1.331927e+09   \n",
      "3555                                             direct  1.331927e+09   \n",
      "3556  http://www.facebook.com/l.php?u=http%3A%2F%2F1...  1.331927e+09   \n",
      "3557                           http://www.AwareMap.com/  1.331927e+09   \n",
      "3558                                             direct  1.331927e+09   \n",
      "3559                               http://t.co/OEEEvwjU  1.331927e+09   \n",
      "\n",
      "                       tz                                                  u  \n",
      "0        America/New_York        http://www.ncbi.nlm.nih.gov/pubmed/22415991  \n",
      "1          America/Denver        http://www.monroecounty.gov/etc/911/rss.php  \n",
      "2        America/New_York  http://boxer.senate.gov/en/press/releases/0316...  \n",
      "3       America/Sao_Paulo            http://apod.nasa.gov/apod/ap120312.html  \n",
      "4        America/New_York  http://www.shrewsbury-ma.gov/egov/gallery/1341...  \n",
      "5        America/New_York  http://www.shrewsbury-ma.gov/egov/gallery/1341...  \n",
      "6           Europe/Warsaw  http://www.nasa.gov/mission_pages/nustar/main/...  \n",
      "7                          http://www.nasa.gov/mission_pages/nustar/main/...  \n",
      "8                          http://www.nasa.gov/mission_pages/nustar/main/...  \n",
      "9                                    http://apod.nasa.gov/apod/ap120312.html  \n",
      "10    America/Los_Angeles  https://www.nysdot.gov/rexdesign/design/commun...  \n",
      "11       America/New_York  http://oversight.house.gov/wp-content/uploads/...  \n",
      "12       America/New_York  https://www.nysdot.gov/rexdesign/design/commun...  \n",
      "13                    NaN                                                NaN  \n",
      "14       America/New_York               http://toxtown.nlm.nih.gov/index.php  \n",
      "15         Asia/Hong_Kong  http://www.ssd.noaa.gov/PS/TROP/TCFP/data/curr...  \n",
      "16         Asia/Hong_Kong  http://www.usno.navy.mil/NOOC/nmfc-ph/RSS/jtwc...  \n",
      "17       America/New_York  http://www.usda.gov/wps/portal/usda/usdahome?c...  \n",
      "18         America/Denver        http://www.monroecounty.gov/etc/911/rss.php  \n",
      "19            Europe/Rome  http://www.nasa.gov/mission_pages/nustar/main/...  \n",
      "20           Africa/Ceuta  http://voyager.jpl.nasa.gov/imagesvideo/uranus...  \n",
      "21       America/New_York  http://www.nasa.gov/mission_pages/nustar/main/...  \n",
      "22       America/New_York  http://portal.hud.gov/hudportal/documents/hudd...  \n",
      "23       America/New_York  http://www.tricare.mil/mybenefit/ProfileFilter...  \n",
      "24          Europe/Madrid  http://www.nasa.gov/mission_pages/nustar/main/...  \n",
      "25      Asia/Kuala_Lumpur  http://www.nasa.gov/mission_pages/nustar/main/...  \n",
      "26           Asia/Nicosia  http://www.nasa.gov/mission_pages/nustar/main/...  \n",
      "27      America/Sao_Paulo            http://apod.nasa.gov/apod/ap120312.html  \n",
      "28                         https://www.nysdot.gov/rexdesign/design/commun...  \n",
      "29                         http://www.ed.gov/news/media-advisories/us-dep...  \n",
      "...                   ...                                                ...  \n",
      "3530  America/Los_Angeles  http://www.nasa.gov/multimedia/imagegallery/im...  \n",
      "3531                       http://www.nasa.gov/mission_pages/nustar/main/...  \n",
      "3532     America/New_York  http://portal.hud.gov/hudportal/HUD?src=/press...  \n",
      "3533     America/New_York                         http://apod.nasa.gov/apod/  \n",
      "3534      America/Chicago  https://www.nysdot.gov/rexdesign/design/commun...  \n",
      "3535      America/Chicago  http://ntl.bts.gov/lib/44000/44300/44374/FHWA-...  \n",
      "3536                       http://www.nasa.gov/mission_pages/hurricanes/a...  \n",
      "3537  America/Tegucigalpa            http://apod.nasa.gov/apod/ap120312.html  \n",
      "3538  America/Los_Angeles  http://healthypeople.gov/2020/connect/webinars...  \n",
      "3539  America/Los_Angeles  http://www.federalreserve.gov/newsevents/press...  \n",
      "3540       America/Denver  http://www.nasa.gov/mission_pages/nustar/main/...  \n",
      "3541  America/Los_Angeles  http://www.federalreserve.gov/newsevents/press...  \n",
      "3542  America/Los_Angeles  http://www.sba.gov/community/blogs/community-b...  \n",
      "3543                  NaN                                                NaN  \n",
      "3544      America/Chicago  https://www.nysdot.gov/rexdesign/design/commun...  \n",
      "3545      America/Chicago  https://www.nysdot.gov/rexdesign/design/commun...  \n",
      "3546  America/Los_Angeles  http://healthypeople.gov/2020/connect/webinars...  \n",
      "3547     America/New_York  http://www.epa.gov/otaq/regs/fuels/additive/e1...  \n",
      "3548      America/Chicago    http://www.fda.gov/Safety/Recalls/ucm296326.htm  \n",
      "3549     Europe/Stockholm  http://www.nasa.gov/mission_pages/WISE/main/in...  \n",
      "3550     America/New_York  http://www.nlm.nih.gov/medlineplus/news/fullst...  \n",
      "3551                       http://www.nasa.gov/mission_pages/nustar/main/...  \n",
      "3552      America/Chicago  http://travel.state.gov/passport/passport_5535...  \n",
      "3553     America/New_York  http://www.shrewsbury-ma.gov/egov/gallery/1341...  \n",
      "3554     America/New_York  http://www.shrewsbury-ma.gov/egov/gallery/1341...  \n",
      "3555     America/New_York  http://www.fda.gov/AdvisoryCommittees/Committe...  \n",
      "3556      America/Chicago  http://www.okc.gov/PublicNotificationSystem/Fo...  \n",
      "3557       America/Denver        http://www.monroecounty.gov/etc/911/rss.php  \n",
      "3558  America/Los_Angeles                http://www.ahrq.gov/qual/qitoolkit/  \n",
      "3559     America/New_York  http://herndon-va.gov/Content/public_safety/Pu...  \n",
      "\n",
      "[3560 rows x 18 columns]\n"
     ]
    }
   ],
   "source": [
    "from pandas import DataFrame, Series\n",
    "import pandas as ps\n",
    "import numpy as np\n",
    "\n",
    "frame = DataFrame(records)\n",
    "print frame  # 检视frame，一长串。这被称为frame的摘要视图（summary view）\n"
   ]
  },
  {
   "cell_type": "code",
   "execution_count": 25,
   "metadata": {},
   "outputs": [
    {
     "name": "stdout",
     "output_type": "stream",
     "text": [
      "America/New_York       1251\n",
      "Unknown                 521\n",
      "America/Chicago         400\n",
      "America/Los_Angeles     382\n",
      "America/Denver          191\n",
      "Missing                 120\n",
      "Europe/London            74\n",
      "Asia/Tokyo               37\n",
      "Pacific/Honolulu         36\n",
      "Europe/Madrid            35\n",
      "Name: tz, dtype: int64\n"
     ]
    },
    {
     "data": {
      "text/plain": [
       "<matplotlib.axes._subplots.AxesSubplot at 0xf85ff28>"
      ]
     },
     "execution_count": 25,
     "metadata": {},
     "output_type": "execute_result"
    },
    {
     "data": {
      "image/png": "[encoded data removed]",
      "text/plain": [
       "<matplotlib.figure.Figure at 0xf9083c8>"
      ]
     },
     "metadata": {},
     "output_type": "display_data"
    }
   ],
   "source": [
    "clean_tz = frame['tz'].fillna('Missing')  # 用`Missing`替换缺失值\n",
    "clean_tz[clean_tz == ''] = 'Unknown'  # 用`Unknown`替换空白值\n",
    "\n",
    "%matplotlib inline\n",
    "tz_counts = clean_tz.value_counts()\n",
    "print tz_counts[:10]  # 检视计数的前十项\n",
    "tz_counts[:10].plot(kind='barh', rot=0)  # 绘图，可视化的方式展示前十项\n"
   ]
  },
  {
   "cell_type": "code",
   "execution_count": null,
   "metadata": {
    "collapsed": true
   },
   "outputs": [],
   "source": []
  }
 ],
 "metadata": {
  "kernelspec": {
   "display_name": "Python 2",
   "language": "python",
   "name": "python2"
  },
  "language_info": {
   "codemirror_mode": {
    "name": "ipython",
    "version": 2
   },
   "file_extension": ".py",
   "mimetype": "text/x-python",
   "name": "python",
   "nbconvert_exporter": "python",
   "pygments_lexer": "ipython2",
   "version": "2.7.13"
  }
 },
 "nbformat": 4,
 "nbformat_minor": 2
}
